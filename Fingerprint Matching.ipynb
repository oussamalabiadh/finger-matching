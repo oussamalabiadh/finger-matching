{
 "cells": [
  {
   "cell_type": "code",
   "execution_count": 9,
   "id": "709e5648-7471-46ba-9054-786a323694c1",
   "metadata": {},
   "outputs": [],
   "source": [
    "import os\n",
    "import cv2\n",
    "\n"
   ]
  },
  {
   "cell_type": "code",
   "execution_count": 2,
   "id": "28578ab3-9a47-4698-aaeb-bfc0294453ba",
   "metadata": {},
   "outputs": [],
   "source": [
    "sample = cv2.resize(sample,None , fx=2.5 ,fy=2.5)\n",
    "cv2.imshow(\"sample\", sample)\n",
    "cv2.waitKey(0)\n",
    "cv2.destroyAllWindows()"
   ]
  },
  {
   "cell_type": "code",
   "execution_count": 11,
   "id": "e4c19170-31ea-4181-b7e4-75621e2da619",
   "metadata": {},
   "outputs": [
    {
     "name": "stdout",
     "output_type": "stream",
     "text": [
      "BEST MATCH: 152__M_Right_middle_finger.BMP\n",
      "SCORE/ 38.46153846153847\n"
     ]
    }
   ],
   "source": [
    "best_score = 0\n",
    "filename = None\n",
    "image = None\n",
    "kp1, kp2, mp = None,None, None\n",
    "sample = cv2.imread(\"SOCOFing/Altered/Altered-Hard/152__M_Right_middle_finger_CR.BMP\")\n",
    "\n",
    "counter = 0\n",
    "for file in os.listdir(\"SOCOFing/Real\")[:1000]:\n",
    "    fingerprint_image = cv2.imread(\"SOCOFing/Real/\" + file)\n",
    "    sift = cv2.SIFT_create()\n",
    "    keypoints_1, descriptors_1 = sift.detectAndCompute(sample, None)\n",
    "    keypoints_2, descriptosr_2 = sift.detectAndCompute(fingerprint_image, None)\n",
    "    matches = cv2.FlannBasedMatcher({'algorithm': 1, 'trees': 10}, {}).knnMatch(descriptors_1, descriptosr_2, k=2)\n",
    "\n",
    "    match_points = []\n",
    "    for p, q in matches:\n",
    "        if p.distance < 0.1 * q.distance:\n",
    "             match_points.append(p)\n",
    "    keypoints = 0\n",
    "    if len(keypoints_1) < len(keypoints_2):\n",
    "        keypoints =len(keypoints_1)\n",
    "    else:\n",
    "        keypoints = len(keypoints_2)\n",
    "    if len(match_points) / keypoints * 100 > best_score:\n",
    "        best_score = len (match_points) / keypoints * 100 \n",
    "        filename = file\n",
    "        image = fingerprint_image\n",
    "        kp1, kp2, mp = keypoints_1, keypoints_2, match_points\n",
    "print(\"BEST MATCH: \" + filename)\n",
    "print(\"SCORE/ \" + str(best_score))\n",
    "result = cv2.drawMatches(sample, kp1,image , kp2 , mp, None)\n",
    "result = cv2.resize(result, None,fx=4, fy=4)\n",
    "cv2.imshow(\"result\", result)\n",
    "cv2.waitKey(0)\n",
    "cv2.destroyAllWindows()"
   ]
  },
  {
   "cell_type": "code",
   "execution_count": null,
   "id": "ccf6a47b-0d86-4c32-ba7f-58c3f05ba827",
   "metadata": {},
   "outputs": [],
   "source": []
  },
  {
   "cell_type": "code",
   "execution_count": null,
   "id": "947e04bb-bcd3-43c7-b70e-1a99febf4d34",
   "metadata": {},
   "outputs": [],
   "source": []
  },
  {
   "cell_type": "code",
   "execution_count": null,
   "id": "04d22be8-9b21-4957-a39b-2a62d00a680b",
   "metadata": {},
   "outputs": [],
   "source": []
  },
  {
   "cell_type": "code",
   "execution_count": null,
   "id": "e8d0ef20-34d4-4cea-bb21-4193a475fa12",
   "metadata": {},
   "outputs": [],
   "source": []
  }
 ],
 "metadata": {
  "kernelspec": {
   "display_name": "Python 3 (ipykernel)",
   "language": "python",
   "name": "python3"
  },
  "language_info": {
   "codemirror_mode": {
    "name": "ipython",
    "version": 3
   },
   "file_extension": ".py",
   "mimetype": "text/x-python",
   "name": "python",
   "nbconvert_exporter": "python",
   "pygments_lexer": "ipython3",
   "version": "3.9.18"
  }
 },
 "nbformat": 4,
 "nbformat_minor": 5
}
